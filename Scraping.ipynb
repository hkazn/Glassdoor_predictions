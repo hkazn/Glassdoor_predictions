{
 "cells": [
  {
   "cell_type": "code",
   "execution_count": 5,
   "metadata": {},
   "outputs": [],
   "source": [
    "import requests"
   ]
  },
  {
   "cell_type": "code",
   "execution_count": 6,
   "metadata": {},
   "outputs": [
    {
     "data": {
      "text/plain": [
       "<Response [403]>"
      ]
     },
     "execution_count": 6,
     "metadata": {},
     "output_type": "execute_result"
    }
   ],
   "source": []
  },
  {
   "cell_type": "code",
   "execution_count": 14,
   "metadata": {},
   "outputs": [
    {
     "data": {
      "text/plain": [
       "<Response [200]>"
      ]
     },
     "execution_count": 14,
     "metadata": {},
     "output_type": "execute_result"
    }
   ],
   "source": [
    "requests.get(\"https://www.glassdoor.com.au/Overview/Working-at-Willis-Towers-Watson-EI_IE1122768.11,31.htm\", headers={\n",
    "    'accept': 'text/html,application/xhtml+xml,application/xml;q=0.9,image/avif,image/webp,image/apng,*/*;q=0.8,application/signed-exchange;v=b3;q=0.9',\n",
    "    'accept-encoding': 'gzip, deflate, br',\n",
    "    'accept-language': 'en-GB,en-US;q=0.9,en;q=0.8',\n",
    "    'cache-control': 'max-age=0',\n",
    "    'cookie': 'GSESSIONID=3eb8e873-564f-4e22-8cd2-4c58afc6eca5+1624957646361; gdId=3eb8e873-564f-4e22-8cd2-4c58afc6eca5; trs=https%3A%2F%2Fwww.google.com%2F:SEO:SEO:2021-06-29+02%3A07%3A26.365:undefined:undefined; JSESSIONID=B1F6E57CE6BEAEA4639D8BE4F51BF546; asst=1624961623.2; _gid=GA1.3.1342971818.1624961626; G_ENABLED_IDPS=google; _optionalConsent=true; _gcl_au=1.1.1152620591.1624961628; g_state={\"i_p\":1624968831693,\"i_l\":1}; uc=4C5C06452B83E7852B8CE49ADF3DB799882E45364D613356F545262482DED2BF6D883D559C5EF37F8BBC854D6C7F7D5066589BC0C919522CDA054AB23717D3EAE91F98607F9B5A16EE871F7337B2896D1182134410C57D1C71BACB03AD8ACB5FB59257879E82FB8717E35BA70DEE77D628A8992FB4DD612CF5A6E72EA9FF78FE14F6D6FF8BC263E068B136607A3BC5E2; at=cgRXOub1tuyPw-03G_-HQsoYvkd92YsKDqgVG-yJ1azJrqCsh8ms0z7faltvCPZg6Ry0hDLKbf5TXfhDAt52Fag5uu5yKSajIgera1awhDGTZwkyik4dS_MKLMUl5UNjuVFjPxKnFf7WyZGh6ySyNsQDDx-LR-MvYpv5NQ8Ga--R64MBzK7WDG1cuPKlTX1JULbJvzIG1UjsnBc8Ucg0BQVHoC1OtHWkN6A2ZoCVhPImktELnoOIYg3UrjqNwoNdJGTve2pHdRt45bUPC3f3IPo24RmY1KsByNYVcJHkp0yKW3UW1VBCzVbi7V6o8fw1KSUapCgc4PWy7yIcz78q8MVPohpsLyTf7FR05j9GPP3Y_1z7EiqMCANQj7vBSLbcnmMCBvlXmoCAhBLqPgtNnPXPLYqaK1sUiNAmDLQOBMwPyA44JZrm5HgWcS6veyTJpjZWQA2W2mHw28TzBoyARFvXn3yHxESx9pArH5NmnzufIj-dbhHG9bT42H-FnwYH980GUjX87Fj7bu4sGvBUbgkpHmtNJI7FaQ_mgna_HM640GgUQx_loHT6Ix0ygYAr6ypbGnAaf-__GGKtfcJR2Z8sRajQkArusJEKZmtmw50__ybWG_Nhzlg2jO3kt15QdVK7gQn2y1yL1MxxQD1foBI_Q9BiAQP4FpY3VL14sYrNoZJorBYSIvBEw--9q2AGaWCGGoIISGMuSlbfZqbTB6kfgdtNMzijUDg1wzeHadtpxXz_DplmehRjqLaoluZYUBlO0KXjat85Q_yT1uVUZJmJu2DspoheyG6P6H0NXh0bw57awTe5iCz8VCPFRo50L6j9paemAfMY-SmmSs2gdBiwYRMvjh3NchbjdCxSP1uyuDGFJX6o0vLJJHvl2KEYavU; fpvc=1; JSESSIONID_KYWI_APP=5B23887F315AC0FCC8BAD293900153A1; JSESSIONID_JX_APP=21C39F085F001768EE0B2D2034350B3B; _GA_Content_Session=true; _gat_UA-2595786-1=1; SameSite=None; gdsid=1624957646361:1624961938955:169057F3AC7E2A88E111F74D55CC92AF; bs=ZGf7YivPpDP5lGpj6HNyuw:cpr0VUbUAqVO1vHsn1RoaSiHLT6tg34nO2JaiAksaCmOGvUESRZrA76aRsDuJuF84pb_l5SHT8qpcSYVOu3QQ1tNihw4y8qEkzpNBg3xnR8:cFetMNe4obCZ327Ix3pXSr5oWF7rXVEMCbjn0oaMwHE; _ga=GA1.3.861319681.1624961626; _dc_gtm_UA-2595786-1=1; _ga_RC95PMVB3H=GS1.1.1624961625.1.1.1624961942.52; OptanonConsent=isIABGlobal=false&datestamp=Tue+Jun+29+2021+20%3A19%3A03+GMT%2B1000+(Australian+Eastern+Standard+Time)&version=6.8.0&hosts=&consentId=73bb9bf9-e080-47a5-b0ab-4214e2b527ef&interactionCount=1&landingPath=NotLandingPage&groups=C0001%3A1%2CC0017%3A1&AwaitingReconsent=false; AWSALB=QrOngoonjnkTtb1bk/cHpUhfFBc5ZAbqymwX8+3lkqWveH4R+MbLRvShJQGWiEudCdCsdWXTlEr18hdkpgsO79Dp+Ary+QTfbIjMz493fn2bUpK/L/F6s1oU7h+x3uPEKDPygE20l+Y+L1rRlDIjwl7SgZyk6sChf7Q1khoChjOKBfvk+VSYn3iwsfJH0gbfHUa2hDQEdlRSLZ4IABaVBTdGzs2AYvR0cLHevpNxGvUebojH8ZVCdXIZ9Ye4QM0=; AWSALBCORS=QrOngoonjnkTtb1bk/cHpUhfFBc5ZAbqymwX8+3lkqWveH4R+MbLRvShJQGWiEudCdCsdWXTlEr18hdkpgsO79Dp+Ary+QTfbIjMz493fn2bUpK/L/F6s1oU7h+x3uPEKDPygE20l+Y+L1rRlDIjwl7SgZyk6sChf7Q1khoChjOKBfvk+VSYn3iwsfJH0gbfHUa2hDQEdlRSLZ4IABaVBTdGzs2AYvR0cLHevpNxGvUebojH8ZVCdXIZ9Ye4QM0=; ADRUM_BTa=R:29|g:3523b893-5e8b-4b84-ad99-0771372ac5f5|n:glassdoor_17d346a0-2ec1-4454-86b0-73b3b787aee9; cass=3',\n",
    "    'referer': 'https://www.glassdoor.com.au/',\n",
    "    'sec-fetch-dest': 'document',\n",
    "    'sec-fetch-mode': 'navigate',\n",
    "    'sec-fetch-site': 'same-origin',\n",
    "    'sec-fetch-user': '?1',\n",
    "    'upgrade-insecure-requests': '1',\n",
    "    'user-agent': 'Mozilla/5.0 (Macintosh; Intel Mac OS X 10_15_7) AppleWebKit/537.36 (KHTML, like Gecko) Chrome/91.0.4472.114 Safari/537.36'\n",
    "})"
   ]
  },
  {
   "cell_type": "code",
   "execution_count": null,
   "metadata": {},
   "outputs": [],
   "source": []
  }
 ],
 "metadata": {
  "kernelspec": {
   "display_name": "Python 3",
   "language": "python",
   "name": "python3"
  },
  "language_info": {
   "codemirror_mode": {
    "name": "ipython",
    "version": 3
   },
   "file_extension": ".py",
   "mimetype": "text/x-python",
   "name": "python",
   "nbconvert_exporter": "python",
   "pygments_lexer": "ipython3",
   "version": "3.8.6"
  }
 },
 "nbformat": 4,
 "nbformat_minor": 4
}
