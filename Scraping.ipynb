{
 "cells": [
  {
   "cell_type": "code",
   "execution_count": 1,
   "metadata": {},
   "outputs": [],
   "source": [
    "import requests\n",
    "import csv\n",
    "from pandas import DataFrame"
   ]
  },
  {
   "cell_type": "code",
   "execution_count": 2,
   "metadata": {},
   "outputs": [],
   "source": [
    "from bs4 import BeautifulSoup"
   ]
  },
  {
   "cell_type": "code",
   "execution_count": null,
   "metadata": {},
   "outputs": [],
   "source": []
  },
  {
   "cell_type": "code",
   "execution_count": 3,
   "metadata": {},
   "outputs": [
    {
     "data": {
      "text/plain": [
       "<Response [200]>"
      ]
     },
     "execution_count": 3,
     "metadata": {},
     "output_type": "execute_result"
    }
   ],
   "source": [
    "requests.get('https://www.google.com/search?q=willis%20towers%20glassdoor')"
   ]
  },
  {
   "cell_type": "code",
   "execution_count": 4,
   "metadata": {},
   "outputs": [],
   "source": [
    "\n",
    "# company_data =  {\n",
    "#         'company_name' : 'willis towers',\n",
    "#         'company_url' : 'https://www.glassdoor.com.au/Overview/Working-at-Willis-Towers-Watson-EI_IE1122768.11,31.htm',\n",
    "#         'reviews_url' : 'https://www.glassdoor.com.au/Reviews/Willis-Towers-Watson-Reviews-E1122768.htm',\n",
    "#         'reviews_url_paged' : 'https://www.glassdoor.com.au/Reviews/Willis-Towers-Watson-Reviews-E1122768_P{page_number}.htm'\n",
    "\n",
    "# }\n",
    "\n",
    "\n",
    "company_data =  {\n",
    "        'company_name' : 'Culture Amp',\n",
    "        'company_url' : 'https://www.glassdoor.com.au/Overview/Working-at-Willis-Towers-Watson-EI_IE1122768.11,31.htm',\n",
    "        'reviews_url' : 'https://www.glassdoor.com.au/Reviews/Culture-Amp-Reviews-E742274.htm',\n",
    "        'reviews_url_paged' : 'https://www.glassdoor.com.au/Reviews/Culture-Amp-Reviews-E742274_P{page_number}.htm'\n",
    "\n",
    "}\n",
    "\n",
    "data = []"
   ]
  },
  {
   "cell_type": "code",
   "execution_count": 5,
   "metadata": {},
   "outputs": [
    {
     "name": "stdout",
     "output_type": "stream",
     "text": [
      "https://www.glassdoor.com.au/Reviews/Culture-Amp-Reviews-E742274.htm\n",
      "https://www.glassdoor.com.au/Reviews/Culture-Amp-Reviews-E742274_P2.htm\n",
      "https://www.glassdoor.com.au/Reviews/Culture-Amp-Reviews-E742274_P3.htm\n",
      "https://www.glassdoor.com.au/Reviews/Culture-Amp-Reviews-E742274_P4.htm\n",
      "https://www.glassdoor.com.au/Reviews/Culture-Amp-Reviews-E742274_P5.htm\n",
      "https://www.glassdoor.com.au/Reviews/Culture-Amp-Reviews-E742274_P6.htm\n",
      "https://www.glassdoor.com.au/Reviews/Culture-Amp-Reviews-E742274_P7.htm\n",
      "https://www.glassdoor.com.au/Reviews/Culture-Amp-Reviews-E742274_P8.htm\n",
      "https://www.glassdoor.com.au/Reviews/Culture-Amp-Reviews-E742274_P9.htm\n"
     ]
    }
   ],
   "source": [
    "for page_number in range(1, 10):\n",
    "    if page_number == 1:\n",
    "        page_url = company_data[\"reviews_url\"]\n",
    "    else:\n",
    "        page_url = company_data[\"reviews_url_paged\"].format(page_number=page_number)\n",
    "    print(page_url)\n",
    "    \n",
    "    payload = requests.get(page_url, headers={\n",
    "        'accept': 'text/html,application/xhtml+xml,application/xml;q=0.9,image/avif,image/webp,image/apng,*/*;q=0.8,application/signed-exchange;v=b3;q=0.9',\n",
    "        'accept-encoding': 'gzip, deflate, br',\n",
    "        'accept-language': 'en-GB,en-US;q=0.9,en;q=0.8',\n",
    "        'cache-control': 'max-age=0',\n",
    "        'cookie': 'GSESSIONID=3eb8e873-564f-4e22-8cd2-4c58afc6eca5+1624957646361; gdId=3eb8e873-564f-4e22-8cd2-4c58afc6eca5; trs=https%3A%2F%2Fwww.google.com%2F:SEO:SEO:2021-06-29+02%3A07%3A26.365:undefined:undefined; JSESSIONID=B1F6E57CE6BEAEA4639D8BE4F51BF546; asst=1624961623.2; _gid=GA1.3.1342971818.1624961626; G_ENABLED_IDPS=google; _optionalConsent=true; _gcl_au=1.1.1152620591.1624961628; g_state={\"i_p\":1624968831693,\"i_l\":1}; uc=4C5C06452B83E7852B8CE49ADF3DB799882E45364D613356F545262482DED2BF6D883D559C5EF37F8BBC854D6C7F7D5066589BC0C919522CDA054AB23717D3EAE91F98607F9B5A16EE871F7337B2896D1182134410C57D1C71BACB03AD8ACB5FB59257879E82FB8717E35BA70DEE77D628A8992FB4DD612CF5A6E72EA9FF78FE14F6D6FF8BC263E068B136607A3BC5E2; at=cgRXOub1tuyPw-03G_-HQsoYvkd92YsKDqgVG-yJ1azJrqCsh8ms0z7faltvCPZg6Ry0hDLKbf5TXfhDAt52Fag5uu5yKSajIgera1awhDGTZwkyik4dS_MKLMUl5UNjuVFjPxKnFf7WyZGh6ySyNsQDDx-LR-MvYpv5NQ8Ga--R64MBzK7WDG1cuPKlTX1JULbJvzIG1UjsnBc8Ucg0BQVHoC1OtHWkN6A2ZoCVhPImktELnoOIYg3UrjqNwoNdJGTve2pHdRt45bUPC3f3IPo24RmY1KsByNYVcJHkp0yKW3UW1VBCzVbi7V6o8fw1KSUapCgc4PWy7yIcz78q8MVPohpsLyTf7FR05j9GPP3Y_1z7EiqMCANQj7vBSLbcnmMCBvlXmoCAhBLqPgtNnPXPLYqaK1sUiNAmDLQOBMwPyA44JZrm5HgWcS6veyTJpjZWQA2W2mHw28TzBoyARFvXn3yHxESx9pArH5NmnzufIj-dbhHG9bT42H-FnwYH980GUjX87Fj7bu4sGvBUbgkpHmtNJI7FaQ_mgna_HM640GgUQx_loHT6Ix0ygYAr6ypbGnAaf-__GGKtfcJR2Z8sRajQkArusJEKZmtmw50__ybWG_Nhzlg2jO3kt15QdVK7gQn2y1yL1MxxQD1foBI_Q9BiAQP4FpY3VL14sYrNoZJorBYSIvBEw--9q2AGaWCGGoIISGMuSlbfZqbTB6kfgdtNMzijUDg1wzeHadtpxXz_DplmehRjqLaoluZYUBlO0KXjat85Q_yT1uVUZJmJu2DspoheyG6P6H0NXh0bw57awTe5iCz8VCPFRo50L6j9paemAfMY-SmmSs2gdBiwYRMvjh3NchbjdCxSP1uyuDGFJX6o0vLJJHvl2KEYavU; fpvc=1; JSESSIONID_KYWI_APP=5B23887F315AC0FCC8BAD293900153A1; JSESSIONID_JX_APP=21C39F085F001768EE0B2D2034350B3B; _GA_Content_Session=true; _gat_UA-2595786-1=1; SameSite=None; gdsid=1624957646361:1624961938955:169057F3AC7E2A88E111F74D55CC92AF; bs=ZGf7YivPpDP5lGpj6HNyuw:cpr0VUbUAqVO1vHsn1RoaSiHLT6tg34nO2JaiAksaCmOGvUESRZrA76aRsDuJuF84pb_l5SHT8qpcSYVOu3QQ1tNihw4y8qEkzpNBg3xnR8:cFetMNe4obCZ327Ix3pXSr5oWF7rXVEMCbjn0oaMwHE; _ga=GA1.3.861319681.1624961626; _dc_gtm_UA-2595786-1=1; _ga_RC95PMVB3H=GS1.1.1624961625.1.1.1624961942.52; OptanonConsent=isIABGlobal=false&datestamp=Tue+Jun+29+2021+20%3A19%3A03+GMT%2B1000+(Australian+Eastern+Standard+Time)&version=6.8.0&hosts=&consentId=73bb9bf9-e080-47a5-b0ab-4214e2b527ef&interactionCount=1&landingPath=NotLandingPage&groups=C0001%3A1%2CC0017%3A1&AwaitingReconsent=false; AWSALB=QrOngoonjnkTtb1bk/cHpUhfFBc5ZAbqymwX8+3lkqWveH4R+MbLRvShJQGWiEudCdCsdWXTlEr18hdkpgsO79Dp+Ary+QTfbIjMz493fn2bUpK/L/F6s1oU7h+x3uPEKDPygE20l+Y+L1rRlDIjwl7SgZyk6sChf7Q1khoChjOKBfvk+VSYn3iwsfJH0gbfHUa2hDQEdlRSLZ4IABaVBTdGzs2AYvR0cLHevpNxGvUebojH8ZVCdXIZ9Ye4QM0=; AWSALBCORS=QrOngoonjnkTtb1bk/cHpUhfFBc5ZAbqymwX8+3lkqWveH4R+MbLRvShJQGWiEudCdCsdWXTlEr18hdkpgsO79Dp+Ary+QTfbIjMz493fn2bUpK/L/F6s1oU7h+x3uPEKDPygE20l+Y+L1rRlDIjwl7SgZyk6sChf7Q1khoChjOKBfvk+VSYn3iwsfJH0gbfHUa2hDQEdlRSLZ4IABaVBTdGzs2AYvR0cLHevpNxGvUebojH8ZVCdXIZ9Ye4QM0=; ADRUM_BTa=R:29|g:3523b893-5e8b-4b84-ad99-0771372ac5f5|n:glassdoor_17d346a0-2ec1-4454-86b0-73b3b787aee9; cass=3',\n",
    "        'referer': 'https://www.glassdoor.com.au/',\n",
    "        'sec-fetch-dest': 'document',\n",
    "        'sec-fetch-mode': 'navigate',\n",
    "        'sec-fetch-site': 'same-origin',\n",
    "        'sec-fetch-user': '?1',\n",
    "        'upgrade-insecure-requests': '1',\n",
    "        'user-agent': 'Mozilla/5.0 (Macintosh; Intel Mac OS X 10_15_7) AppleWebKit/537.36 (KHTML, like Gecko) Chrome/91.0.4472.114 Safari/537.36'\n",
    "    })\n",
    "    soup = BeautifulSoup(payload.content, 'html.parser')\n",
    "    Overall_reviews = soup.find_all(\"ol\", {'class' : \"empReviews emp-reviews-feed pl-0\"})\n",
    "    \n",
    "    reviews = Overall_reviews [0].find_all(\"div\", {'class': \"p-0\"})\n",
    "    for test in reviews:\n",
    "        Headline = test.find(\"a\",{'class':'reviewLink'})\n",
    "        if Headline is None:\n",
    "            continue\n",
    "        Pros = test.find(\"span\",{'data-test':'pros'})\n",
    "        if Pros is None:\n",
    "            continue\n",
    "        Cons = test.find(\"span\",{'data-test':'cons'})\n",
    "        if Cons is None:\n",
    "            continue\n",
    "\n",
    "        data.append(Headline.text)\n",
    "        data.append(Cons.text)\n",
    "        data.append(Pros.text)\n",
    "        data.append(\"-\"*50)\n"
   ]
  },
  {
   "cell_type": "code",
   "execution_count": 6,
   "metadata": {},
   "outputs": [
    {
     "data": {
      "text/html": [
       "<div>\n",
       "<style scoped>\n",
       "    .dataframe tbody tr th:only-of-type {\n",
       "        vertical-align: middle;\n",
       "    }\n",
       "\n",
       "    .dataframe tbody tr th {\n",
       "        vertical-align: top;\n",
       "    }\n",
       "\n",
       "    .dataframe thead th {\n",
       "        text-align: right;\n",
       "    }\n",
       "</style>\n",
       "<table border=\"1\" class=\"dataframe\">\n",
       "  <thead>\n",
       "    <tr style=\"text-align: right;\">\n",
       "      <th></th>\n",
       "      <th>0</th>\n",
       "    </tr>\n",
       "  </thead>\n",
       "  <tbody>\n",
       "    <tr>\n",
       "      <th>0</th>\n",
       "      <td>True to values and genuine care for people</td>\n",
       "    </tr>\n",
       "    <tr>\n",
       "      <th>1</th>\n",
       "      <td>I have not observed anything negative yet.</td>\n",
       "    </tr>\n",
       "    <tr>\n",
       "      <th>2</th>\n",
       "      <td>CultureAmp's care and understanding for people...</td>\n",
       "    </tr>\n",
       "    <tr>\n",
       "      <th>3</th>\n",
       "      <td>----------------------------------------------...</td>\n",
       "    </tr>\n",
       "    <tr>\n",
       "      <th>4</th>\n",
       "      <td>Good company with great culture</td>\n",
       "    </tr>\n",
       "    <tr>\n",
       "      <th>...</th>\n",
       "      <td>...</td>\n",
       "    </tr>\n",
       "    <tr>\n",
       "      <th>315</th>\n",
       "      <td>----------------------------------------------...</td>\n",
       "    </tr>\n",
       "    <tr>\n",
       "      <th>316</th>\n",
       "      <td>Sales</td>\n",
       "    </tr>\n",
       "    <tr>\n",
       "      <th>317</th>\n",
       "      <td>It is hard to find cons when you come to work ...</td>\n",
       "    </tr>\n",
       "    <tr>\n",
       "      <th>318</th>\n",
       "      <td>Very progressive company. Great learning envir...</td>\n",
       "    </tr>\n",
       "    <tr>\n",
       "      <th>319</th>\n",
       "      <td>----------------------------------------------...</td>\n",
       "    </tr>\n",
       "  </tbody>\n",
       "</table>\n",
       "<p>320 rows × 1 columns</p>\n",
       "</div>"
      ],
      "text/plain": [
       "                                                     0\n",
       "0           True to values and genuine care for people\n",
       "1           I have not observed anything negative yet.\n",
       "2    CultureAmp's care and understanding for people...\n",
       "3    ----------------------------------------------...\n",
       "4                      Good company with great culture\n",
       "..                                                 ...\n",
       "315  ----------------------------------------------...\n",
       "316                                              Sales\n",
       "317  It is hard to find cons when you come to work ...\n",
       "318  Very progressive company. Great learning envir...\n",
       "319  ----------------------------------------------...\n",
       "\n",
       "[320 rows x 1 columns]"
      ]
     },
     "execution_count": 6,
     "metadata": {},
     "output_type": "execute_result"
    }
   ],
   "source": [
    "df = DataFrame(data)\n",
    "df"
   ]
  },
  {
   "cell_type": "code",
   "execution_count": 7,
   "metadata": {},
   "outputs": [],
   "source": [
    "filename = (company_data[\"company_name\"]+\" reviews\"+\".csv\")\n",
    "df.to_csv(filename, encoding='utf-8', index=False)"
   ]
  }
 ],
 "metadata": {
  "kernelspec": {
   "display_name": "Python 3",
   "language": "python",
   "name": "python3"
  },
  "language_info": {
   "codemirror_mode": {
    "name": "ipython",
    "version": 3
   },
   "file_extension": ".py",
   "mimetype": "text/x-python",
   "name": "python",
   "nbconvert_exporter": "python",
   "pygments_lexer": "ipython3",
   "version": "3.8.3"
  }
 },
 "nbformat": 4,
 "nbformat_minor": 4
}
